{
 "cells": [
  {
   "cell_type": "code",
   "execution_count": 181,
   "metadata": {},
   "outputs": [],
   "source": [
    "from utils import evaluate\n",
    "from utils import utils\n"
   ]
  },
  {
   "cell_type": "code",
   "execution_count": 182,
   "metadata": {},
   "outputs": [],
   "source": [
    "import pandas as pd\n",
    "excel_path = \"/home/shagoto/codes/headless/test_repos/b-server-fast_api/nlp_core/data/final_data.xlsx\"\n",
    "df = pd.read_excel(excel_path)"
   ]
  },
  {
   "cell_type": "code",
   "execution_count": 183,
   "metadata": {},
   "outputs": [
    {
     "data": {
      "text/plain": [
       "Index(['Unnamed: 0', 'Context No', 'Context', 'ContextQuesNo', 'Q1', 'Q2',\n",
       "       'Q3', 'Q4', 'Exact Answer', 'Answer', 'T1', 'T2', 'L1', 'L2', 'P1',\n",
       "       'P2', 'P3', 'Event', 'Date', 'Year', 'Mujib Relevant'],\n",
       "      dtype='object')"
      ]
     },
     "execution_count": 183,
     "metadata": {},
     "output_type": "execute_result"
    }
   ],
   "source": [
    "df.columns"
   ]
  },
  {
   "cell_type": "code",
   "execution_count": 184,
   "metadata": {},
   "outputs": [],
   "source": [
    "answers_series = df.Answer.dropna()"
   ]
  },
  {
   "cell_type": "code",
   "execution_count": 185,
   "metadata": {},
   "outputs": [],
   "source": [
    "q1,q2,q3,q4 = utils.all_questions_from_excel(excel_path)"
   ]
  },
  {
   "cell_type": "code",
   "execution_count": 186,
   "metadata": {},
   "outputs": [],
   "source": [
    "q1, q1_idx = utils.question_context_splitter(q1)\n",
    "q2, q2_idx = utils.question_context_splitter(q2)\n",
    "q3, q3_idx = utils.question_context_splitter(q3)\n",
    "q4, q4_idx = utils.question_context_splitter(q4)\n",
    "\n",
    "answers, ans_idx = utils.question_context_splitter(answers_series)"
   ]
  },
  {
   "cell_type": "code",
   "execution_count": 187,
   "metadata": {},
   "outputs": [],
   "source": [
    "ques = []\n",
    "\n",
    "ques.extend(q1)\n",
    "ques.extend(q2)\n",
    "ques.extend(q3)\n",
    "ques.extend(q4)\n"
   ]
  },
  {
   "cell_type": "code",
   "execution_count": 188,
   "metadata": {},
   "outputs": [],
   "source": [
    "ques_changed = utils.change_to_mujib(ques)"
   ]
  },
  {
   "cell_type": "code",
   "execution_count": 189,
   "metadata": {},
   "outputs": [],
   "source": [
    "idx = []\n",
    "\n",
    "idx.extend(q1_idx)\n",
    "idx.extend(q2_idx)\n",
    "idx.extend(q3_idx)\n",
    "idx.extend(q4_idx)\n"
   ]
  },
  {
   "cell_type": "code",
   "execution_count": 190,
   "metadata": {},
   "outputs": [],
   "source": [
    "questions_answers = []\n",
    "for q, index in zip(ques_changed, idx):\n",
    "    # print(index)\n",
    "    \n",
    "    for a, i in zip(answers, ans_idx):\n",
    "        # print(i)\n",
    "        \n",
    "        if index == i:\n",
    "            questions_answers.append(\n",
    "\n",
    "                {\n",
    "                    \"question\": q,\n",
    "                    \"answer\": a\n",
    "                }\n",
    "            )"
   ]
  },
  {
   "cell_type": "code",
   "execution_count": 191,
   "metadata": {},
   "outputs": [
    {
     "data": {
      "text/plain": [
       "1048"
      ]
     },
     "execution_count": 191,
     "metadata": {},
     "output_type": "execute_result"
    }
   ],
   "source": [
    "len(questions_answers)"
   ]
  },
  {
   "cell_type": "code",
   "execution_count": 192,
   "metadata": {},
   "outputs": [
    {
     "data": {
      "text/plain": [
       "{'question': 'কার হাত ধরে আওয়ামী লীগ আবারো রাজপথে আসে ?',\n",
       " 'answer': '১৯৬৪ সালে প্রায় পাঁচ বছরের অচলাবস্থা কাটিয়ে তেজস্বী পুরুষ শেখ মুজিবের হাত ধরে আবারো রাজপথে নেমে আসে আওয়ামী লীগ'}"
      ]
     },
     "execution_count": 192,
     "metadata": {},
     "output_type": "execute_result"
    }
   ],
   "source": [
    "questions_answers[55]"
   ]
  },
  {
   "cell_type": "code",
   "execution_count": 193,
   "metadata": {},
   "outputs": [],
   "source": [
    "all_questions = utils.all_questions_from_qna(questions_answers)\n"
   ]
  },
  {
   "cell_type": "code",
   "execution_count": 194,
   "metadata": {},
   "outputs": [
    {
     "data": {
      "text/plain": [
       "'পূর্ব বাংলায় ১৯৭০ এর ঝড়ে কত মানুষ মারা যায় ?'"
      ]
     },
     "execution_count": 194,
     "metadata": {},
     "output_type": "execute_result"
    }
   ],
   "source": [
    "all_questions[0]"
   ]
  },
  {
   "cell_type": "code",
   "execution_count": 195,
   "metadata": {},
   "outputs": [
    {
     "data": {
      "text/plain": [
       "1048"
      ]
     },
     "execution_count": 195,
     "metadata": {},
     "output_type": "execute_result"
    }
   ],
   "source": [
    "len(all_questions)"
   ]
  },
  {
   "cell_type": "code",
   "execution_count": 196,
   "metadata": {},
   "outputs": [],
   "source": [
    "all_answers = utils.all_answers_from_qna(questions_answers)"
   ]
  },
  {
   "cell_type": "code",
   "execution_count": 197,
   "metadata": {},
   "outputs": [
    {
     "data": {
      "text/plain": [
       "1048"
      ]
     },
     "execution_count": 197,
     "metadata": {},
     "output_type": "execute_result"
    }
   ],
   "source": [
    "len(all_answers)"
   ]
  },
  {
   "cell_type": "code",
   "execution_count": 198,
   "metadata": {},
   "outputs": [
    {
     "data": {
      "text/plain": [
       "{'question': 'পূর্ব বাংলায় ১৯৭০ এর ঝড়ে কত মানুষ মারা যায় ?',\n",
       " 'answer': '১৯৭০ এর ঝড়ে ১০ লাখ মানুষ মারা যায় এই বাংলায় ।'}"
      ]
     },
     "execution_count": 198,
     "metadata": {},
     "output_type": "execute_result"
    }
   ],
   "source": [
    "questions_answers[0]"
   ]
  },
  {
   "cell_type": "code",
   "execution_count": 199,
   "metadata": {},
   "outputs": [],
   "source": [
    "def add_data(ques, ans):\n",
    "    questions_answers.append(\n",
    "        {\n",
    "            'question':ques,\n",
    "            'answer':ans\n",
    "        }\n",
    "    )"
   ]
  },
  {
   "cell_type": "code",
   "execution_count": 200,
   "metadata": {},
   "outputs": [],
   "source": [
    "add_data(\n",
    "    \"মুজিব কলকাতা ইসলামিয়া কলেজের বেকার হোষ্টেলের কত নম্বর কক্ষে থাকতেন ?\",\n",
    "    \"মুজিব কলকাতা ইসলামিয়া কলেজের বেকার হোষ্টেলের ২৪ নম্বর  কক্ষে থাকতেন\"\n",
    ")"
   ]
  },
  {
   "cell_type": "code",
   "execution_count": 201,
   "metadata": {},
   "outputs": [],
   "source": [
    "add_data(\n",
    "    \"মুজিব  বেকার হোষ্টেলের কত নম্বর কক্ষে থাকতেন ?\",\n",
    "    \"মুজিব কলকাতা ইসলামিয়া কলেজের বেকার হোষ্টেলের ২৪ নম্বর  কক্ষে থাকতেন\"\n",
    ")"
   ]
  },
  {
   "cell_type": "code",
   "execution_count": 202,
   "metadata": {},
   "outputs": [],
   "source": [
    "add_data(\n",
    "    \"মুজিব কলকাতা ইসলামিয়া কলেজের কোন  হোষ্টেলে থাকতেন ?\",\n",
    "    \"মুজিব কলকাতা ইসলামিয়া কলেজের বেকার হোষ্টেলের ২৪ নম্বর  কক্ষে থাকতেন\"\n",
    ")"
   ]
  },
  {
   "cell_type": "code",
   "execution_count": 203,
   "metadata": {},
   "outputs": [],
   "source": [
    "add_data(\n",
    "    \"মুজিব বিএ পড়ার সময়  কোন  হোষ্টেলে থাকতেন ?\",\n",
    "    \"মুজিব কলকাতা ইসলামিয়া কলেজের বেকার হোষ্টেলের ২৪ নম্বর  কক্ষে থাকতেন\"\n",
    ")"
   ]
  },
  {
   "cell_type": "code",
   "execution_count": 204,
   "metadata": {},
   "outputs": [],
   "source": [
    "add_data(\n",
    "    \"মুজিব আনুষ্ঠানিকভাবে কবে ছয়দফা ঘোষনা করেন ?\",\n",
    "    \"১৯৬৬ সালের ২৩ মার্চ জাতির জনক বঙ্গবন্ধু শেখ মুজিব আনুষ্ঠানিকভাবে ছয়দফা ঘোষনা করেন ।\"\n",
    "    \n",
    ")"
   ]
  },
  {
   "cell_type": "code",
   "execution_count": 205,
   "metadata": {},
   "outputs": [],
   "source": [
    "add_data(\n",
    "    \"মুজিব কবে মারা যান ?\",\n",
    "    \"১৯৭৫ সালের ১৫ আগস্ট স্বাধীনতা বিরোধী প্রতিক্রিয়াশীল চক্রের ষড়যন্ত্রে জাতির পিতা বঙ্গবন্ধু শেখ মুজিবুর রহমান সপরিবারে শহীদ হন।\"\n",
    ")"
   ]
  },
  {
   "cell_type": "code",
   "execution_count": 206,
   "metadata": {},
   "outputs": [],
   "source": [
    "add_data(\n",
    "    \"১৯৭১ সালের ১৭ এপ্রিল গঠিত অস্থায়ী সরকারের মুজিবের পদ কী ছিল?\",\n",
    "    \"জাতির জনক বঙ্গবন্ধু শেখ মুজিবুর রহমানের পদ ছিল রাষ্ট্রপতি।\"\n",
    ")"
   ]
  },
  {
   "cell_type": "code",
   "execution_count": 207,
   "metadata": {},
   "outputs": [],
   "source": [
    "add_data(\n",
    "    \"অস্থায়ী সরকারে মুজিবের পদ কী ছিল?\",\n",
    "    \"জাতির জনক বঙ্গবন্ধু শেখ মুজিবুর রহমানের পদ ছিল রাষ্ট্রপতি।\"\n",
    ")"
   ]
  },
  {
   "cell_type": "code",
   "execution_count": 208,
   "metadata": {},
   "outputs": [],
   "source": [
    "add_data(\n",
    "    \"মুজিবের ডাকনাম কি ?\",\n",
    "    \"বঙ্গবন্ধু শেখ মুজিবুর রহমানের বাবা শেখ লুৎফর রহমান ও মা সায়েরা খাতুন আদর করে তাকে খোকা বলে ডাকতেন ।\"\n",
    "    \n",
    ")"
   ]
  },
  {
   "cell_type": "code",
   "execution_count": 209,
   "metadata": {},
   "outputs": [],
   "source": [
    "add_data(\n",
    "    \"মুজিবকে মুজিব উপাধিতে ভূষিত করা হয় কত সালে?\",\n",
    "    \"১৯৬৯ সালের ২৩ ফেব্রুয়ারি জাতির জনক শেখ মুজিবকে ‘বঙ্গবন্ধু’ উপাধিতে ভূষিত করা হয়\"\n",
    "    \n",
    ")"
   ]
  },
  {
   "cell_type": "code",
   "execution_count": 210,
   "metadata": {},
   "outputs": [],
   "source": [
    "add_data(\n",
    "    \"মুজিবকে মুজিব উপাধি কে দেন?\",\n",
    "    \"তৎ​কালীন ডাকসুর ভিপি তোফায়েল আহমেদ মুজিবকে বঙ্গবন্ধু উপাধি  দেন।\"\n",
    ")"
   ]
  },
  {
   "cell_type": "code",
   "execution_count": 211,
   "metadata": {},
   "outputs": [],
   "source": [
    "\n",
    "add_data(\n",
    "    \" মুজিবকে কে মুজিব উপাধী দেন ?\",\n",
    "    \"তৎ​কালীন ডাকসুর ভিপি তোফায়েল আহমেদ মুজিবকে বঙ্গবন্ধু উপাধি  দেন।\"\n",
    ")"
   ]
  },
  {
   "cell_type": "code",
   "execution_count": 212,
   "metadata": {},
   "outputs": [],
   "source": [
    "add_data(\n",
    "    \"মুজিব ৭ মার্চের ভাষণ কোথায় দেন?\",\n",
    "    \"ঢাকার রেসকোর্স ময়দানে, যা এখন সোহরাওয়ার্দি উদ্যোন নামে পরিচিত ।\"\n",
    "\n",
    ")"
   ]
  },
  {
   "cell_type": "code",
   "execution_count": 213,
   "metadata": {},
   "outputs": [],
   "source": [
    "add_data(\n",
    "    \"মুজিব স্বাধীন বাংলাদেশের রাষ্ট্রপতির দায়িত্ব গ্রহণ করেন কত তারিখে?\",\n",
    "    \"১৯৭২ সালের ১০ জানুয়ারি মুজিব স্বাধীন বাংলাদেশের রাষ্ট্রপতির দায়িত্ব গ্রহণ করেন ।\"\n",
    "    \n",
    ")"
   ]
  },
  {
   "cell_type": "code",
   "execution_count": 214,
   "metadata": {},
   "outputs": [],
   "source": [
    "add_data(\n",
    "    \"মুজিব জাদুঘর কোথায় অবস্থিত?\",\n",
    "    \"ঢাকার ধানমন্ডির ৩২ নম্বরে বঙ্গবন্ধু জাদুঘর  অবস্থিত\"\n",
    "    \n",
    ")"
   ]
  },
  {
   "cell_type": "code",
   "execution_count": 215,
   "metadata": {},
   "outputs": [],
   "source": [
    "add_data(\n",
    "    \"মুজিব কি খেতে ভালোবাসতেন?\",\n",
    "    \"ছোটবেলা থেকেই বঙ্গবন্ধুর প্রিয় ছিল মাছ। তা-ও দেশীয় প্রজাতির মাছ খেতে ভালোবাসতেন।  টেংরা, পুঁটি, পাবদা, সাদা ভাত, ডাল, করলা, মলা আর সবজি ছিল বঙ্গবন্ধুর প্রিয় খাবার। দুধ-কলা-গুড় দিয়েও ভাত খেতেন সব সময়। মুড়িমাখাও  ছিল প্রিয় খাবারের তালিকায় । \"\n",
    ")"
   ]
  },
  {
   "cell_type": "code",
   "execution_count": 216,
   "metadata": {},
   "outputs": [],
   "source": [
    "add_data(\n",
    "    \"বাঙালি জাতির মুক্তির সনদ হিসেবে পরিচিত কোনটি?\",\n",
    "    \"ছয় দফা বাঙালি জাতির মুক্তির সনদ হিসেবে পরিচিত।\"\n",
    ")"
   ]
  },
  {
   "cell_type": "code",
   "execution_count": 217,
   "metadata": {},
   "outputs": [],
   "source": [
    "add_data(\n",
    "    \"মুজিব কত বছর জেলে ছিলেন?\",\n",
    "    \"বঙ্গবন্ধু ২৬ বার কারাবরণ করেন। বিভিন্ন কারাগারে তিনি জীবনের মূল্যবান ৩ হাজার ৯৭৯দিন কাটিয়েছেন, যা বছর হিসাব করলে প্রায় ১১ বছর।\"\n",
    ")"
   ]
  },
  {
   "cell_type": "code",
   "execution_count": 218,
   "metadata": {},
   "outputs": [],
   "source": [
    "add_data(\"মুজিবের স্ত্রীর নাম কি ?\",\n",
    "         \"১৯৩৮ সালে আঠার বছর বয়সে ফজিলাতুন্নেসার (রেণু) সাথে শেখ মুজিবু্র রহমানের বিয়ে হয়। এঁদের সন্তানরা হলেন দুই কন্যা (শেখ হাসিনা, শেখ রেহানা) ও তিন পুত্র (শেখ কামাল, শেখ জামাল ও শেখ রাসেল)।\")"
   ]
  },
  {
   "cell_type": "code",
   "execution_count": 219,
   "metadata": {},
   "outputs": [],
   "source": [
    "add_data(\n",
    "    \"মুজিবের বউয়ের নাম কি ?\",\n",
    "    \"১৯৩৮ সালে আঠার বছর বয়সে ফজিলাতুন্নেসার (রেণু) সাথে শেখ মুজিবু্র রহমানের বিয়ে হয়। এঁদের সন্তানরা হলেন দুই কন্যা (শেখ হাসিনা, শেখ রেহানা) ও তিন পুত্র (শেখ কামাল, শেখ জামাল ও শেখ রাসেল)।\"\n",
    ")"
   ]
  },
  {
   "cell_type": "code",
   "execution_count": 220,
   "metadata": {},
   "outputs": [],
   "source": [
    "add_data(\"মুজিবের বউ ?\",\n",
    "         \"১৯৩৮ সালে আঠার বছর বয়সে ফজিলাতুন্নেসার (রেণু) সাথে শেখ মুজিবু্র রহমানের বিয়ে হয়। এঁদের সন্তানরা হলেন দুই কন্যা (শেখ হাসিনা, শেখ রেহানা) ও তিন পুত্র (শেখ কামাল, শেখ জামাল ও শেখ রাসেল)।\")"
   ]
  },
  {
   "cell_type": "code",
   "execution_count": 221,
   "metadata": {},
   "outputs": [],
   "source": [
    "add_data(\n",
    "    \"মুজিবের সহধর্মিনী ?\",\n",
    "    \"১৯৩৮ সালে আঠার বছর বয়সে ফজিলাতুন্নেসার (রেণু)  সাথে শেখ মুজিবু্র রহমানের বিয়ে হয়। এঁদের সন্তানরা হলেন দুই কন্যা (শেখ হাসিনা, শেখ রেহানা) ও তিন পুত্র (শেখ কামাল, শেখ জামাল ও শেখ রাসেল)।\"\n",
    ")"
   ]
  },
  {
   "cell_type": "code",
   "execution_count": 222,
   "metadata": {},
   "outputs": [],
   "source": [
    "add_data(\n",
    "    \"মুজিবের দাদার নাম কি?\",\n",
    "    \"বঙ্গবন্ধুর নানার নাম শেখ আবদুল মজিদ\"\n",
    "    \n",
    ")"
   ]
  },
  {
   "cell_type": "code",
   "execution_count": 223,
   "metadata": {},
   "outputs": [],
   "source": [
    "add_data(\n",
    "    \"মুজিবের নানার নাম কি?\",\n",
    "    \"বঙ্গবন্ধুর নানার নাম শেখ আবদুল মজিদ।\")"
   ]
  },
  {
   "cell_type": "code",
   "execution_count": 224,
   "metadata": {},
   "outputs": [],
   "source": [
    "add_data(\n",
    "    \"মুজিবের নানীর  নাম কি?\",\n",
    "    \"বঙ্গবন্ধুর নানীর নাম সুফিয়া খাতুন।\"\n",
    ")"
   ]
  },
  {
   "cell_type": "code",
   "execution_count": 225,
   "metadata": {},
   "outputs": [],
   "source": [
    "add_data(\n",
    "    \"মুজিব কবে মারা যান ?\",\n",
    "    \"বাংলাদেশের প্রথম রাষ্ট্রপতি, বঙ্গবন্ধু শেখ মুজিবুর রহমান এবং তার পরিবারের অধিকাংশকে ১৯৭৫ সালের ১৫ আগস্ট ভোরে একদল তরুণ বাংলাদেশ সেনাবাহিনীর সদস্যদের দ্বারা হত্যা করা হয়েছিল ।১৯৭৫ সালের ১৫ই আগস্ট ছিলো শুক্রবার।\"\n",
    ")"
   ]
  },
  {
   "cell_type": "code",
   "execution_count": 226,
   "metadata": {},
   "outputs": [],
   "source": [
    "add_data(\n",
    "    \"মুজিব কি বারে মারা যান ?\",\n",
    "    \"বাংলাদেশের প্রথম রাষ্ট্রপতি, বঙ্গবন্ধু শেখ মুজিবুর রহমান এবং তার পরিবারের অধিকাংশকে ১৯৭৫ সালের ১৫ আগস্ট ভোরে একদল তরুণ বাংলাদেশ সেনাবাহিনীর সদস্যদের দ্বারা হত্যা করা হয়েছিল ।১৯৭৫ সালের ১৫ই আগস্ট ছিলো শুক্রবার।\"\n",
    ")"
   ]
  },
  {
   "cell_type": "code",
   "execution_count": 227,
   "metadata": {},
   "outputs": [],
   "source": [
    "add_data(\n",
    "    \"মুজিব কোথায় প্রথম ৬ দফা দাবি উত্থাপন করেন?\",\n",
    "    \"১৯৬৬ সালের ৫-৬ই ফেব্রুয়ারি লাহোরে অনুষ্ঠিত বিরোধী দল সমুহের এক সম্মেলনে যোগদান করে বঙ্গবন্ধু শেখ মুজিবুর রহমান ৬ দফা দাবি উপস্থাপন করেন।\"\n",
    "    \n",
    ")"
   ]
  },
  {
   "cell_type": "code",
   "execution_count": 228,
   "metadata": {},
   "outputs": [],
   "source": [
    "add_data(\n",
    "    \"মুজিবের শ্বশুর বাড়ি কোথায়\",\n",
    "    \"জাতির জনক শেখ মুজিবুর রহমান  তার চাচাতো বোনকেই বিয়ে করেন, তাই মুজিবের বাড়িই মুজিবের শুশুর বাড়ি।\"\n",
    ")"
   ]
  },
  {
   "cell_type": "code",
   "execution_count": 229,
   "metadata": {},
   "outputs": [],
   "source": [
    "add_data(\n",
    "    \"মুজিবে কে ?\",\n",
    "    \"বঙ্গবন্ধু (বাংলার বন্ধু) নামে পরিচিত শেখ মুজিবুর রহমান ছিলেন একজন দূরদর্শী নেতা যিনি বাংলাদেশ সৃষ্টিতে অগ্রণী ভূমিকা পালন করেছিলেন। তার জনগণের অধিকার এবং স্বাধীনতার প্রতি তার অটল প্রতিশ্রুতি, তার ক্যারিশম্যাটিক নেতৃত্বের শৈলীর সাথে মিলিত হয়ে, তাকে কোটি কোটি মানুষের শ্রদ্ধা এবং আরাধনা অর্জন করেছে। তিনি ছিলেন প্রান্তিক ও নিম্নবিত্ত মানুষের কণ্ঠস্বর এবং একটি মুক্ত, গণতান্ত্রিক ও ন্যায়পরায়ণ সমাজ প্রতিষ্ঠায় তাঁর অক্লান্ত প্রচেষ্টা চিরকাল স্মরণীয় হয়ে থাকবে। অসংখ্য চ্যালেঞ্জ ও বাধার সম্মুখীন হওয়া সত্ত্বেও, বঙ্গবন্ধু তার ন্যায় ও সাম্যের অন্বেষণে কখনই নড়বড়ে হননি, যা তাকে বাংলাদেশের ইতিহাসে সবচেয়ে প্রিয় ও শ্রদ্ধেয় নেতাদের একজন করে তুলেছে।\"\n",
    ")"
   ]
  },
  {
   "cell_type": "code",
   "execution_count": 230,
   "metadata": {},
   "outputs": [],
   "source": [
    "add_data(\n",
    "    \"মুজিবে কে ছিলেন ?\",\n",
    "    \"বঙ্গবন্ধু (বাংলার বন্ধু) নামে পরিচিত শেখ মুজিবুর রহমান ছিলেন একজন দূরদর্শী নেতা যিনি বাংলাদেশ সৃষ্টিতে অগ্রণী ভূমিকা পালন করেছিলেন। তার জনগণের অধিকার এবং স্বাধীনতার প্রতি তার অটল প্রতিশ্রুতি, তার ক্যারিশম্যাটিক নেতৃত্বের শৈলীর সাথে মিলিত হয়ে, তাকে কোটি কোটি মানুষের শ্রদ্ধা এবং আরাধনা অর্জন করেছে। তিনি ছিলেন প্রান্তিক ও নিম্নবিত্ত মানুষের কণ্ঠস্বর এবং একটি মুক্ত, গণতান্ত্রিক ও ন্যায়পরায়ণ সমাজ প্রতিষ্ঠায় তাঁর অক্লান্ত প্রচেষ্টা চিরকাল স্মরণীয় হয়ে থাকবে। অসংখ্য চ্যালেঞ্জ ও বাধার সম্মুখীন হওয়া সত্ত্বেও, বঙ্গবন্ধু তার ন্যায় ও সাম্যের অন্বেষণে কখনই নড়বড়ে হননি, যা তাকে বাংলাদেশের ইতিহাসে সবচেয়ে প্রিয় ও শ্রদ্ধেয় নেতাদের একজন করে তুলেছে।\"\n",
    ")"
   ]
  },
  {
   "cell_type": "code",
   "execution_count": 231,
   "metadata": {},
   "outputs": [],
   "source": [
    "add_data(\n",
    "    \"মুজিবের পরিচয় কি  ?\",\n",
    "    \"বঙ্গবন্ধু (বাংলার বন্ধু) নামে পরিচিত শেখ মুজিবুর রহমান ছিলেন একজন দূরদর্শী নেতা যিনি বাংলাদেশ সৃষ্টিতে অগ্রণী ভূমিকা পালন করেছিলেন। তার জনগণের অধিকার এবং স্বাধীনতার প্রতি তার অটল প্রতিশ্রুতি, তার ক্যারিশম্যাটিক নেতৃত্বের শৈলীর সাথে মিলিত হয়ে, তাকে কোটি কোটি মানুষের শ্রদ্ধা এবং আরাধনা অর্জন করেছে। তিনি ছিলেন প্রান্তিক ও নিম্নবিত্ত মানুষের কণ্ঠস্বর এবং একটি মুক্ত, গণতান্ত্রিক ও ন্যায়পরায়ণ সমাজ প্রতিষ্ঠায় তাঁর অক্লান্ত প্রচেষ্টা চিরকাল স্মরণীয় হয়ে থাকবে। অসংখ্য চ্যালেঞ্জ ও বাধার সম্মুখীন হওয়া সত্ত্বেও, বঙ্গবন্ধু তার ন্যায় ও সাম্যের অন্বেষণে কখনই নড়বড়ে হননি, যা তাকে বাংলাদেশের ইতিহাসে সবচেয়ে প্রিয় ও শ্রদ্ধেয় নেতাদের একজন করে তুলেছে।\"\n",
    ")"
   ]
  },
  {
   "cell_type": "code",
   "execution_count": 232,
   "metadata": {},
   "outputs": [],
   "source": [
    "add_data(\n",
    "    \"মুজিব সম্পর্কে কিছু বল ?\",\n",
    "    \"বঙ্গবন্ধু (বাংলার বন্ধু) নামে পরিচিত শেখ মুজিবুর রহমান ছিলেন একজন দূরদর্শী নেতা যিনি বাংলাদেশ সৃষ্টিতে অগ্রণী ভূমিকা পালন করেছিলেন। তার জনগণের অধিকার এবং স্বাধীনতার প্রতি তার অটল প্রতিশ্রুতি, তার ক্যারিশম্যাটিক নেতৃত্বের শৈলীর সাথে মিলিত হয়ে, তাকে কোটি কোটি মানুষের শ্রদ্ধা এবং আরাধনা অর্জন করেছে। তিনি ছিলেন প্রান্তিক ও নিম্নবিত্ত মানুষের কণ্ঠস্বর এবং একটি মুক্ত, গণতান্ত্রিক ও ন্যায়পরায়ণ সমাজ প্রতিষ্ঠায় তাঁর অক্লান্ত প্রচেষ্টা চিরকাল স্মরণীয় হয়ে থাকবে। অসংখ্য চ্যালেঞ্জ ও বাধার সম্মুখীন হওয়া সত্ত্বেও, বঙ্গবন্ধু তার ন্যায় ও সাম্যের অন্বেষণে কখনই নড়বড়ে হননি, যা তাকে বাংলাদেশের ইতিহাসে সবচেয়ে প্রিয় ও শ্রদ্ধেয় নেতাদের একজন করে তুলেছে।\"\n",
    ")"
   ]
  },
  {
   "cell_type": "code",
   "execution_count": null,
   "metadata": {},
   "outputs": [],
   "source": []
  },
  {
   "cell_type": "code",
   "execution_count": null,
   "metadata": {},
   "outputs": [],
   "source": []
  },
  {
   "cell_type": "code",
   "execution_count": null,
   "metadata": {},
   "outputs": [],
   "source": []
  },
  {
   "cell_type": "code",
   "execution_count": null,
   "metadata": {},
   "outputs": [],
   "source": []
  },
  {
   "cell_type": "code",
   "execution_count": 233,
   "metadata": {},
   "outputs": [
    {
     "data": {
      "text/plain": [
       "1081"
      ]
     },
     "execution_count": 233,
     "metadata": {},
     "output_type": "execute_result"
    }
   ],
   "source": [
    "len(questions_answers)"
   ]
  },
  {
   "cell_type": "code",
   "execution_count": 234,
   "metadata": {},
   "outputs": [
    {
     "data": {
      "text/plain": [
       "1081"
      ]
     },
     "execution_count": 234,
     "metadata": {},
     "output_type": "execute_result"
    }
   ],
   "source": [
    "all_questions = utils.all_questions_from_qna(questions_answers)\n",
    "\n",
    "\n",
    "len(all_questions)"
   ]
  },
  {
   "cell_type": "code",
   "execution_count": 235,
   "metadata": {},
   "outputs": [
    {
     "name": "stdout",
     "output_type": "stream",
     "text": [
      "Total words : 8903\n"
     ]
    },
    {
     "data": {
      "text/plain": [
       "[('?', 467),\n",
       " ('মুজিব', 234),\n",
       " ('কবে', 165),\n",
       " ('কোন', 158),\n",
       " ('কে', 152),\n",
       " ('কত', 133),\n",
       " ('সালে', 118),\n",
       " ('হয়', 102),\n",
       " ('হয়?', 82),\n",
       " ('কি', 80),\n",
       " ('করা', 77),\n",
       " ('মুজিবকে', 77),\n",
       " ('করেন', 65),\n",
       " ('মুসলিম', 62),\n",
       " ('লীগ', 62),\n",
       " ('মুজিবুর', 62),\n",
       " ('মুজিবের', 53),\n",
       " ('কে?', 51),\n",
       " ('কোথায়', 51),\n",
       " ('নাম', 47)]"
      ]
     },
     "execution_count": 235,
     "metadata": {},
     "output_type": "execute_result"
    }
   ],
   "source": [
    "utils.bow(all_questions)"
   ]
  },
  {
   "cell_type": "code",
   "execution_count": 236,
   "metadata": {},
   "outputs": [],
   "source": [
    "ques_embeddings = evaluate.get_embeddings(all_questions)"
   ]
  },
  {
   "cell_type": "code",
   "execution_count": 237,
   "metadata": {},
   "outputs": [
    {
     "data": {
      "text/plain": [
       "torch.Size([1081, 768])"
      ]
     },
     "execution_count": 237,
     "metadata": {},
     "output_type": "execute_result"
    }
   ],
   "source": [
    "ques_embeddings.shape"
   ]
  },
  {
   "cell_type": "code",
   "execution_count": 238,
   "metadata": {},
   "outputs": [],
   "source": [
    "base_dir = '/home/shagoto/codes/headless/test_repos/b-server-fast_api/nlp_core/data/'\n",
    "\n",
    "all_ques_path = base_dir+'questions.bin'"
   ]
  },
  {
   "cell_type": "code",
   "execution_count": 239,
   "metadata": {},
   "outputs": [],
   "source": [
    "utils.save_list(all_ques_path, all_questions)\n"
   ]
  },
  {
   "cell_type": "code",
   "execution_count": 240,
   "metadata": {},
   "outputs": [],
   "source": [
    "embds_path = base_dir+'ques_embeddings.npy'\n",
    "\n",
    "utils.save_embeddings(embds_path,ques_embeddings)"
   ]
  },
  {
   "cell_type": "code",
   "execution_count": 241,
   "metadata": {},
   "outputs": [],
   "source": [
    "qna_path = base_dir+'/qna.bin'\n",
    "\n",
    "utils.save_list(qna_path,questions_answers)\n"
   ]
  },
  {
   "cell_type": "code",
   "execution_count": null,
   "metadata": {},
   "outputs": [],
   "source": []
  }
 ],
 "metadata": {
  "kernelspec": {
   "display_name": "Python 3",
   "language": "python",
   "name": "python3"
  },
  "language_info": {
   "codemirror_mode": {
    "name": "ipython",
    "version": 3
   },
   "file_extension": ".py",
   "mimetype": "text/x-python",
   "name": "python",
   "nbconvert_exporter": "python",
   "pygments_lexer": "ipython3",
   "version": "3.10.9"
  },
  "orig_nbformat": 4,
  "vscode": {
   "interpreter": {
    "hash": "18e324a07a859704b02b16be5dc2c3db92b83793108eeb4e3b8c9fcec2bdc2f8"
   }
  }
 },
 "nbformat": 4,
 "nbformat_minor": 2
}
