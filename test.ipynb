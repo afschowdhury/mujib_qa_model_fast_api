{
 "cells": [
  {
   "cell_type": "code",
   "execution_count": 1,
   "metadata": {},
   "outputs": [],
   "source": []
  },
  {
   "cell_type": "code",
   "execution_count": 8,
   "metadata": {},
   "outputs": [],
   "source": [
    "def banglish_to_bangla(data):\n",
    "    banglish2bengali = BanglishToBengali()\n",
    "    return banglish2bengali.parse(data.strip())\n",
    "    "
   ]
  },
  {
   "cell_type": "code",
   "execution_count": 9,
   "metadata": {},
   "outputs": [
    {
     "data": {
      "text/plain": [
       "'কই তুমি , কথায় থাক ?'"
      ]
     },
     "execution_count": 9,
     "metadata": {},
     "output_type": "execute_result"
    }
   ],
   "source": [
    "banglish_to_bangla(\"koi tumi , kothay thako ?\")"
   ]
  },
  {
   "cell_type": "code",
   "execution_count": 7,
   "metadata": {},
   "outputs": [
    {
     "name": "stdout",
     "output_type": "stream",
     "text": [
      "KhBr Ki tOMAr ?\n"
     ]
    }
   ],
   "source": [
    "from bnbphoneticparser import BengaliToBanglish\n",
    "\n",
    "\n",
    "bengali2banglish = BengaliToBanglish()\n",
    "bengali_text = \"খবর কি তোমার ?\"\n",
    "print(bengali2banglish.parse(bengali_text.strip()))"
   ]
  }
 ],
 "metadata": {
  "kernelspec": {
   "display_name": "Python 3",
   "language": "python",
   "name": "python3"
  },
  "language_info": {
   "codemirror_mode": {
    "name": "ipython",
    "version": 3
   },
   "file_extension": ".py",
   "mimetype": "text/x-python",
   "name": "python",
   "nbconvert_exporter": "python",
   "pygments_lexer": "ipython3",
   "version": "3.10.9"
  },
  "orig_nbformat": 4,
  "vscode": {
   "interpreter": {
    "hash": "45c488ab6801e6e62a02c013cb208dcc6ad57fbf1b3ad8e284ddcf40242d14a0"
   }
  }
 },
 "nbformat": 4,
 "nbformat_minor": 2
}
