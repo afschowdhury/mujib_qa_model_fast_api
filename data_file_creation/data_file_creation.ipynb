{
 "cells": [
  {
   "cell_type": "markdown",
   "metadata": {},
   "source": [
    "# Importing data form Excel Sheet"
   ]
  },
  {
   "cell_type": "code",
   "execution_count": 1,
   "metadata": {},
   "outputs": [
    {
     "data": {
      "text/html": [
       "<div>\n",
       "<style scoped>\n",
       "    .dataframe tbody tr th:only-of-type {\n",
       "        vertical-align: middle;\n",
       "    }\n",
       "\n",
       "    .dataframe tbody tr th {\n",
       "        vertical-align: top;\n",
       "    }\n",
       "\n",
       "    .dataframe thead th {\n",
       "        text-align: right;\n",
       "    }\n",
       "</style>\n",
       "<table border=\"1\" class=\"dataframe\">\n",
       "  <thead>\n",
       "    <tr style=\"text-align: right;\">\n",
       "      <th></th>\n",
       "      <th>Unnamed: 0</th>\n",
       "      <th>Context No</th>\n",
       "      <th>Context</th>\n",
       "      <th>ContextQuesNo</th>\n",
       "      <th>Q1</th>\n",
       "      <th>Q2</th>\n",
       "      <th>Q3</th>\n",
       "      <th>Q4</th>\n",
       "      <th>Exact Answer</th>\n",
       "      <th>Answer</th>\n",
       "      <th>...</th>\n",
       "      <th>T2</th>\n",
       "      <th>L1</th>\n",
       "      <th>L2</th>\n",
       "      <th>P1</th>\n",
       "      <th>P2</th>\n",
       "      <th>P3</th>\n",
       "      <th>Event</th>\n",
       "      <th>Date</th>\n",
       "      <th>Year</th>\n",
       "      <th>Mujib Relevant</th>\n",
       "    </tr>\n",
       "  </thead>\n",
       "  <tbody>\n",
       "    <tr>\n",
       "      <th>0</th>\n",
       "      <td>1</td>\n",
       "      <td>1</td>\n",
       "      <td>On November 12, 1970, 1 million people died in...</td>\n",
       "      <td>1.0</td>\n",
       "      <td>How many people died in 1970 strome at East Pa...</td>\n",
       "      <td>How many people died at 1970 strome at Banglad...</td>\n",
       "      <td>How many people died at 1970?</td>\n",
       "      <td>What is the number of people died at 1970 stro...</td>\n",
       "      <td>10 lac people</td>\n",
       "      <td>Almost 10 lac people died in 1970 strome in Ba...</td>\n",
       "      <td>...</td>\n",
       "      <td>History</td>\n",
       "      <td>NaN</td>\n",
       "      <td>East Bengal</td>\n",
       "      <td>NaN</td>\n",
       "      <td>NaN</td>\n",
       "      <td>NaN</td>\n",
       "      <td>Flow Tide</td>\n",
       "      <td>1970-12-11 00:00:00</td>\n",
       "      <td>1970.0</td>\n",
       "      <td>NO</td>\n",
       "    </tr>\n",
       "    <tr>\n",
       "      <th>1</th>\n",
       "      <td>2</td>\n",
       "      <td>NaN</td>\n",
       "      <td>NaN</td>\n",
       "      <td>2.0</td>\n",
       "      <td>Why did Sheikh Mujib stop the election campaig...</td>\n",
       "      <td>Why did Bangabandhu stop election campaining?</td>\n",
       "      <td>NaN</td>\n",
       "      <td></td>\n",
       "      <td>For natural disasters</td>\n",
       "      <td>Bangabandhu postponed his election campaign du...</td>\n",
       "      <td>...</td>\n",
       "      <td>History</td>\n",
       "      <td>NaN</td>\n",
       "      <td>East Bengal</td>\n",
       "      <td>NaN</td>\n",
       "      <td>NaN</td>\n",
       "      <td>NaN</td>\n",
       "      <td>Flow Tide</td>\n",
       "      <td>NaN</td>\n",
       "      <td>1970.0</td>\n",
       "      <td>YES</td>\n",
       "    </tr>\n",
       "    <tr>\n",
       "      <th>2</th>\n",
       "      <td>3</td>\n",
       "      <td>NaN</td>\n",
       "      <td>NaN</td>\n",
       "      <td>3.0</td>\n",
       "      <td>Why 1 million people died in 1970?</td>\n",
       "      <td>What was the reason of 1million people died in...</td>\n",
       "      <td>NaN</td>\n",
       "      <td>NaN</td>\n",
       "      <td>For natural disasters</td>\n",
       "      <td>In 1970, a million people died in East Bengal ...</td>\n",
       "      <td>...</td>\n",
       "      <td>History</td>\n",
       "      <td>NaN</td>\n",
       "      <td>East Bengal</td>\n",
       "      <td>NaN</td>\n",
       "      <td>NaN</td>\n",
       "      <td>NaN</td>\n",
       "      <td>Flow Tide</td>\n",
       "      <td>1970-12-11 00:00:00</td>\n",
       "      <td>1970.0</td>\n",
       "      <td>NO</td>\n",
       "    </tr>\n",
       "    <tr>\n",
       "      <th>3</th>\n",
       "      <td>4</td>\n",
       "      <td>2</td>\n",
       "      <td>In November 1953, Bangabandhu Sheikh Mujibur R...</td>\n",
       "      <td>1.0</td>\n",
       "      <td>In what year was Bangabandhu Sheikh Mujibur Ra...</td>\n",
       "      <td>In which year was Bangabandhu Sheikh Mujibur R...</td>\n",
       "      <td>In what year was Bangabandhu elected as the ge...</td>\n",
       "      <td>NaN</td>\n",
       "      <td>1953-11-01 00:00:00</td>\n",
       "      <td>Bangabandhu Sheikh Mujibur Rahman was elected ...</td>\n",
       "      <td>...</td>\n",
       "      <td>Join East Pakistan Awami Muslim League</td>\n",
       "      <td>NaN</td>\n",
       "      <td>East Bengal</td>\n",
       "      <td>NaN</td>\n",
       "      <td>NaN</td>\n",
       "      <td>NaN</td>\n",
       "      <td>Jukto Front formed</td>\n",
       "      <td>NaN</td>\n",
       "      <td>1953.0</td>\n",
       "      <td>YES</td>\n",
       "    </tr>\n",
       "    <tr>\n",
       "      <th>4</th>\n",
       "      <td>5</td>\n",
       "      <td>NaN</td>\n",
       "      <td>NaN</td>\n",
       "      <td>2.0</td>\n",
       "      <td>East Pakistan Awami Muslim League session was ...</td>\n",
       "      <td>In which year was the session of East Pakistan...</td>\n",
       "      <td>NaN</td>\n",
       "      <td>NaN</td>\n",
       "      <td>1953</td>\n",
       "      <td>In 1953 East Pakistan Awami Muslim League sess...</td>\n",
       "      <td>...</td>\n",
       "      <td>Involvement in politics</td>\n",
       "      <td>NaN</td>\n",
       "      <td>East Bengal</td>\n",
       "      <td>NaN</td>\n",
       "      <td>NaN</td>\n",
       "      <td>NaN</td>\n",
       "      <td>Jukto Front formed</td>\n",
       "      <td>NaN</td>\n",
       "      <td>1953.0</td>\n",
       "      <td>YES</td>\n",
       "    </tr>\n",
       "  </tbody>\n",
       "</table>\n",
       "<p>5 rows × 21 columns</p>\n",
       "</div>"
      ],
      "text/plain": [
       "   Unnamed: 0 Context No                                            Context  \\\n",
       "0           1          1  On November 12, 1970, 1 million people died in...   \n",
       "1           2        NaN                                                NaN   \n",
       "2           3        NaN                                                NaN   \n",
       "3           4          2  In November 1953, Bangabandhu Sheikh Mujibur R...   \n",
       "4           5        NaN                                                NaN   \n",
       "\n",
       "   ContextQuesNo                                                 Q1  \\\n",
       "0            1.0  How many people died in 1970 strome at East Pa...   \n",
       "1            2.0  Why did Sheikh Mujib stop the election campaig...   \n",
       "2            3.0                 Why 1 million people died in 1970?   \n",
       "3            1.0  In what year was Bangabandhu Sheikh Mujibur Ra...   \n",
       "4            2.0  East Pakistan Awami Muslim League session was ...   \n",
       "\n",
       "                                                  Q2  \\\n",
       "0  How many people died at 1970 strome at Banglad...   \n",
       "1      Why did Bangabandhu stop election campaining?   \n",
       "2  What was the reason of 1million people died in...   \n",
       "3  In which year was Bangabandhu Sheikh Mujibur R...   \n",
       "4  In which year was the session of East Pakistan...   \n",
       "\n",
       "                                                  Q3  \\\n",
       "0                      How many people died at 1970?   \n",
       "1                                                NaN   \n",
       "2                                                NaN   \n",
       "3  In what year was Bangabandhu elected as the ge...   \n",
       "4                                                NaN   \n",
       "\n",
       "                                                  Q4           Exact Answer  \\\n",
       "0  What is the number of people died at 1970 stro...          10 lac people   \n",
       "1                                                     For natural disasters   \n",
       "2                                                NaN  For natural disasters   \n",
       "3                                                NaN    1953-11-01 00:00:00   \n",
       "4                                                NaN                   1953   \n",
       "\n",
       "                                              Answer  ...  \\\n",
       "0  Almost 10 lac people died in 1970 strome in Ba...  ...   \n",
       "1  Bangabandhu postponed his election campaign du...  ...   \n",
       "2  In 1970, a million people died in East Bengal ...  ...   \n",
       "3  Bangabandhu Sheikh Mujibur Rahman was elected ...  ...   \n",
       "4  In 1953 East Pakistan Awami Muslim League sess...  ...   \n",
       "\n",
       "                                       T2   L1           L2   P1   P2   P3  \\\n",
       "0                                 History  NaN  East Bengal  NaN  NaN  NaN   \n",
       "1                                 History  NaN  East Bengal  NaN  NaN  NaN   \n",
       "2                                 History  NaN  East Bengal  NaN  NaN  NaN   \n",
       "3  Join East Pakistan Awami Muslim League  NaN  East Bengal  NaN  NaN  NaN   \n",
       "4                 Involvement in politics  NaN  East Bengal  NaN  NaN  NaN   \n",
       "\n",
       "                Event                 Date    Year  Mujib Relevant  \n",
       "0           Flow Tide  1970-12-11 00:00:00  1970.0              NO  \n",
       "1           Flow Tide                  NaN  1970.0             YES  \n",
       "2           Flow Tide  1970-12-11 00:00:00  1970.0              NO  \n",
       "3  Jukto Front formed                  NaN  1953.0             YES  \n",
       "4  Jukto Front formed                  NaN  1953.0             YES  \n",
       "\n",
       "[5 rows x 21 columns]"
      ]
     },
     "execution_count": 1,
     "metadata": {},
     "output_type": "execute_result"
    }
   ],
   "source": [
    "import pandas as pd\n",
    "\n",
    "df= pd.read_excel(\"data/english_data.xlsx\", sheet_name=[\"final\"])[\"final\"][:]\n",
    "\n",
    "\n",
    "\n",
    "df.head()"
   ]
  },
  {
   "cell_type": "code",
   "execution_count": 2,
   "metadata": {},
   "outputs": [
    {
     "name": "stdout",
     "output_type": "stream",
     "text": [
      "========== Data Fields in Dataset ==========\n",
      "\n",
      "         1. Context No\n",
      "         2. Context\n",
      "         3. ContextQuesNo\n",
      "         4. Q1\n",
      "         5. Q2\n",
      "         6. Q3\n",
      "         7. Q4\n",
      "         8. Exact Answer\n",
      "         9. Answer\n",
      "         10. T1\n",
      "         11. T2\n",
      "         12. L1\n",
      "         13. L2\n",
      "         14. P1\n",
      "         15. P2\n",
      "         16. P3\n",
      "         17. Event\n",
      "         18. Date\n",
      "         19. Year\n",
      "         20. Mujib Relevant\n"
     ]
    }
   ],
   "source": [
    "print(\"=\"*10+\" Data Fields in Dataset \"+\"=\"*10)\n",
    "print()\n",
    "for i,data_field in enumerate(df.columns[1:]):\n",
    "    \n",
    "    print(f\"         {(i+1)}. {data_field}\")"
   ]
  },
  {
   "attachments": {},
   "cell_type": "markdown",
   "metadata": {},
   "source": [
    "# Creating `json` file"
   ]
  },
  {
   "attachments": {},
   "cell_type": "markdown",
   "metadata": {},
   "source": [
    "### Taking the `Contexts` and dropping null values\n"
   ]
  },
  {
   "cell_type": "code",
   "execution_count": 3,
   "metadata": {},
   "outputs": [
    {
     "data": {
      "text/plain": [
       "Unnamed: 0          0\n",
       "Context No        360\n",
       "Context           361\n",
       "ContextQuesNo       3\n",
       "Q1                  3\n",
       "Q2                 36\n",
       "Q3                231\n",
       "Q4                374\n",
       "Exact Answer        4\n",
       "Answer              4\n",
       "T1                147\n",
       "T2                  3\n",
       "L1                419\n",
       "L2                118\n",
       "P1                370\n",
       "P2                379\n",
       "P3                415\n",
       "Event              21\n",
       "Date              210\n",
       "Year               14\n",
       "Mujib Relevant      7\n",
       "dtype: int64"
      ]
     },
     "execution_count": 3,
     "metadata": {},
     "output_type": "execute_result"
    }
   ],
   "source": [
    "df.isna().sum()"
   ]
  },
  {
   "cell_type": "code",
   "execution_count": 4,
   "metadata": {},
   "outputs": [],
   "source": [
    "context = df['Context']"
   ]
  },
  {
   "cell_type": "code",
   "execution_count": 5,
   "metadata": {},
   "outputs": [],
   "source": [
    "context = df['Context'].dropna()"
   ]
  },
  {
   "cell_type": "code",
   "execution_count": 6,
   "metadata": {},
   "outputs": [
    {
     "data": {
      "text/plain": [
       "0      On November 12, 1970, 1 million people died in...\n",
       "3      In November 1953, Bangabandhu Sheikh Mujibur R...\n",
       "15     In March 1954, the Jukto Front led by Awami Mu...\n",
       "30     In 1955, Bangabandhu was elected as a member o...\n",
       "40     In 1956, a provincial government was formed in...\n",
       "                             ...                        \n",
       "381    On February 21, 1952, Salam, Rafiq, Jabbar, Ba...\n",
       "391    On August 15, 1975, Father of the Nation Banga...\n",
       "400    On September 25, 1974, Bangabandhu Sheikh Muji...\n",
       "405    On November 4, 1972, within a year of independ...\n",
       "413    Sheikh Mujibur Rahman married Fazilatunnessa i...\n",
       "Name: Context, Length: 61, dtype: object"
      ]
     },
     "execution_count": 6,
     "metadata": {},
     "output_type": "execute_result"
    }
   ],
   "source": [
    "context"
   ]
  },
  {
   "attachments": {},
   "cell_type": "markdown",
   "metadata": {},
   "source": [
    "### Converting the `Contexts` into `list`\n"
   ]
  },
  {
   "cell_type": "code",
   "execution_count": 7,
   "metadata": {},
   "outputs": [],
   "source": [
    "ctx_lst = context.tolist()"
   ]
  },
  {
   "attachments": {},
   "cell_type": "markdown",
   "metadata": {},
   "source": [
    "### Converting `context_index` into `list`"
   ]
  },
  {
   "cell_type": "code",
   "execution_count": 8,
   "metadata": {},
   "outputs": [],
   "source": [
    "ctx_index = context.keys().tolist()\n"
   ]
  },
  {
   "cell_type": "code",
   "execution_count": 9,
   "metadata": {},
   "outputs": [
    {
     "name": "stdout",
     "output_type": "stream",
     "text": [
      "\n",
      "context : In November 1953, Bangabandhu Sheikh Mujibur Rahman was elected as the general secretary of the then main opposition party 'East Pakistan Awami Muslim League'. On December 5, the United Front was formed under the leadership of Awami League along with other opposition parties. Bangabandhu started campaigning across the country. \n",
      "context id: 3\n"
     ]
    }
   ],
   "source": [
    "print()\n",
    "print(f\"context : {ctx_lst[1]} \" )\n",
    "print(f\"context id: {ctx_index[1]}\")"
   ]
  },
  {
   "cell_type": "markdown",
   "metadata": {},
   "source": [
    "### Taking the `Q1`s\n",
    "\n"
   ]
  },
  {
   "cell_type": "code",
   "execution_count": 10,
   "metadata": {},
   "outputs": [
    {
     "data": {
      "text/plain": [
       "422"
      ]
     },
     "execution_count": 10,
     "metadata": {},
     "output_type": "execute_result"
    }
   ],
   "source": [
    "first_question = df['Q1']\n",
    "\n",
    "len(first_question)"
   ]
  },
  {
   "cell_type": "code",
   "execution_count": 11,
   "metadata": {},
   "outputs": [],
   "source": [
    "first_question_no_misiing= []\n",
    "for q in first_question:\n",
    "    if type(q) == str:\n",
    "        first_question_no_misiing.append(q)\n",
    "    else:\n",
    "        first_question_no_misiing.append(\"missing\")\n",
    "        \n",
    "        "
   ]
  },
  {
   "cell_type": "code",
   "execution_count": 12,
   "metadata": {},
   "outputs": [
    {
     "data": {
      "text/plain": [
       "0    How many people died in 1970 strome at East Pa...\n",
       "1    Why did Sheikh Mujib stop the election campaig...\n",
       "2                   Why 1 million people died in 1970?\n",
       "3    In what year was Bangabandhu Sheikh Mujibur Ra...\n",
       "4    East Pakistan Awami Muslim League session was ...\n",
       "5    Bangabandhu was elected general secretary of w...\n",
       "6    In which month of 1953 the session of East Pak...\n",
       "7    Which was the main opposition party at that time?\n",
       "8    Sheikh Mujibur Rahman was elected to which pos...\n",
       "9    What kind of party was East Pakistan Awami Mus...\n",
       "Name: Q1, dtype: object"
      ]
     },
     "execution_count": 12,
     "metadata": {},
     "output_type": "execute_result"
    }
   ],
   "source": [
    "first_question[:10]"
   ]
  },
  {
   "cell_type": "code",
   "execution_count": 13,
   "metadata": {},
   "outputs": [],
   "source": [
    "ques_index = first_question.keys().tolist()\n",
    "\n"
   ]
  },
  {
   "cell_type": "markdown",
   "metadata": {},
   "source": [
    "### Binding `Contexts` to `Questions`"
   ]
  },
  {
   "cell_type": "code",
   "execution_count": 14,
   "metadata": {},
   "outputs": [],
   "source": [
    "ctx_q1 = []\n",
    "for i in range(len(ctx_index)-1):\n",
    "    for j in range(len(ques_index)):\n",
    "\n",
    "        if ctx_index[i] == j:\n",
    "            ques = []\n",
    "            k = j\n",
    "\n",
    "            while k < ctx_index[i+1]:\n",
    "                ques.append(first_question[k])\n",
    "                k = k+1\n",
    "\n",
    "    ctx_q1.append({\n",
    "        'context': context[ctx_index[i]],\n",
    "        'questions': ques\n",
    "    })"
   ]
  },
  {
   "cell_type": "code",
   "execution_count": 15,
   "metadata": {},
   "outputs": [],
   "source": [
    "\n",
    "\n",
    "\"\"\"\n",
    "datetime type for converting \n",
    "datetime object to stirng as \n",
    "json dosn't allow datetime object \n",
    "insertion\n",
    "\n",
    "\"\"\"\n",
    "import datetime\n",
    "\n",
    "\n",
    "date_time_type = type(datetime.datetime.now()) \n",
    "\n"
   ]
  },
  {
   "cell_type": "markdown",
   "metadata": {},
   "source": [
    "## Full Dataframe Generation "
   ]
  },
  {
   "attachments": {},
   "cell_type": "markdown",
   "metadata": {},
   "source": [
    "\n",
    "\n",
    "It is a list of dictionaries. It follows the following structure:\n",
    "```python\n",
    "    \n",
    "    'context': context \n",
    "    'qas': [{\n",
    "        'qtns': [list of paraphased questions],\n",
    "        'exact_answer': exact answer to the question\n",
    "        'answer': explained answer to the question\n",
    "        'tags': associated tags to the question\n",
    "        'data': associated date to the question\n",
    "        'year': associated year to the question\n",
    "        'location': associated location to the question\n",
    "        'people':  associated people to the question\n",
    "        'event': associated event to the question\n",
    "        'mujib_relavant': the question is mujib relavant or not\n",
    "\n",
    "\n",
    "    }\n",
    "    ...\n",
    "    ...\n",
    "    same qas for multiple question from the context\n",
    "    ...\n",
    "    ...\n",
    "    ]\n",
    "```\n",
    "    "
   ]
  },
  {
   "cell_type": "code",
   "execution_count": 16,
   "metadata": {},
   "outputs": [
    {
     "name": "stderr",
     "output_type": "stream",
     "text": [
      "/tmp/ipykernel_22138/3240984968.py:44: SettingWithCopyWarning: \n",
      "A value is trying to be set on a copy of a slice from a DataFrame\n",
      "\n",
      "See the caveats in the documentation: https://pandas.pydata.org/pandas-docs/stable/user_guide/indexing.html#returning-a-view-versus-a-copy\n",
      "  df['Date'][k] = \"no_date\"\n",
      "/tmp/ipykernel_22138/3240984968.py:42: SettingWithCopyWarning: \n",
      "A value is trying to be set on a copy of a slice from a DataFrame\n",
      "\n",
      "See the caveats in the documentation: https://pandas.pydata.org/pandas-docs/stable/user_guide/indexing.html#returning-a-view-versus-a-copy\n",
      "  df['Date'][k] = df['Date'][k].strftime(\"%d-%m-%Y\")\n"
     ]
    }
   ],
   "source": [
    "\n",
    "full_df = []\n",
    "\n",
    "for i in range(len(ctx_index)-1):\n",
    "    for j in range(len(ques_index)):\n",
    "        if ctx_index[i] == j:\n",
    "            qas = []\n",
    "            \n",
    "\n",
    "            k = j\n",
    "\n",
    "            while k < ctx_index[i+1]:\n",
    "                ques = []\n",
    "                tags = []\n",
    "                location = []\n",
    "                people = []\n",
    "                \n",
    "                if type(first_question[k]) == str:\n",
    "                \n",
    "                    ques.append(first_question[k])\n",
    "                if type(df['Q2'][k]) == str:\n",
    "                    ques.append(df['Q2'][k])\n",
    "                if type(df['Q3'][k]) == str:\n",
    "                    ques.append(df['Q3'][k])\n",
    "                if type(df['Q4'][k]) == str:\n",
    "                    ques.append(df['Q4'][k])\n",
    "                if type(df['T1'][k]) == str:\n",
    "                    tags.append(df['T1'][k])\n",
    "                if type(df['T2'][k]) == str:\n",
    "                    tags.append(df['T2'][k])\n",
    "                if type(df['L1'][k]) == str:\n",
    "                    location.append(df['L1'][k])\n",
    "                if type(df['L2'][k]) == str:\n",
    "                    location.append(df['L2'][k])\n",
    "                if type(df['P1'][k]) == str:\n",
    "                    people.append(df['P1'][k])\n",
    "                if type(df['P2'][k]) == str:\n",
    "                    people.append(df['P2'][k])\n",
    "                if type(df['P3'][k]) == str:\n",
    "                    people.append(df['P3'][k])\n",
    "                \n",
    "                if type(df['Date'][k]) == date_time_type :\n",
    "                        df['Date'][k] = df['Date'][k].strftime(\"%d-%m-%Y\")\n",
    "                else:\n",
    "                    df['Date'][k] = \"no_date\"\n",
    "                        \n",
    "                        \n",
    "                        \n",
    "                qas.append({\n",
    "                    'qtns': ques,\n",
    "                    'exact_answer': str(df['Exact Answer'][k]),\n",
    "                    'answer': str(df['Answer'][k]),\n",
    "                    'tags':tags,\n",
    "                    'date': df['Date'][k],\n",
    "                    'year': df['Year'][k],\n",
    "                    'location': location, \n",
    "                    'people': people, \n",
    "                    'event': str(df['Event'][k]),\n",
    "                     'mujib_relavant': str(df['Mujib Relevant'][k])\n",
    "                    \n",
    "\n",
    "\n",
    "                }\n",
    "                )\n",
    "\n",
    "                k = k+1\n",
    "\n",
    "    full_df.append({\n",
    "        'context': context[ctx_index[i]],\n",
    "        'qas': qas\n",
    "    })\n"
   ]
  },
  {
   "attachments": {},
   "cell_type": "markdown",
   "metadata": {},
   "source": [
    "### Adding last one context"
   ]
  },
  {
   "cell_type": "code",
   "execution_count": 17,
   "metadata": {},
   "outputs": [
    {
     "data": {
      "text/plain": [
       "(413, 421)"
      ]
     },
     "execution_count": 17,
     "metadata": {},
     "output_type": "execute_result"
    }
   ],
   "source": [
    "ctx_index[-1] , ques_index[-1]"
   ]
  },
  {
   "cell_type": "code",
   "execution_count": 18,
   "metadata": {},
   "outputs": [
    {
     "name": "stderr",
     "output_type": "stream",
     "text": [
      "/tmp/ipykernel_22138/730454322.py:37: SettingWithCopyWarning: \n",
      "A value is trying to be set on a copy of a slice from a DataFrame\n",
      "\n",
      "See the caveats in the documentation: https://pandas.pydata.org/pandas-docs/stable/user_guide/indexing.html#returning-a-view-versus-a-copy\n",
      "  df['Date'][k] = \"no_date\"\n"
     ]
    }
   ],
   "source": [
    "\n",
    "j = ctx_index[-1]\n",
    "qas = []\n",
    "\n",
    "k = j\n",
    "while k <= ques_index[-1]:\n",
    "    ques = []\n",
    "    tags = []\n",
    "    location = []\n",
    "    people = []\n",
    "\n",
    "    if type(first_question[k]) == str:\n",
    "        ques.append(first_question[k])\n",
    "    if type(df['Q2'][k]) == str:\n",
    "        ques.append(df['Q2'][k])\n",
    "    if type(df['Q3'][k]) == str:\n",
    "        ques.append(df['Q3'][k])\n",
    "    if type(df['Q4'][k]) == str:\n",
    "        ques.append(df['Q4'][k])\n",
    "    if type(df['T1'][k]) == str:\n",
    "        tags.append(df['T1'][k])\n",
    "    if type(df['T2'][k]) == str:\n",
    "        tags.append(df['T2'][k])\n",
    "    if type(df['L1'][k]) == str:\n",
    "        location.append(df['L1'][k])\n",
    "    if type(df['L2'][k]) == str:\n",
    "        location.append(df['L2'][k])\n",
    "    if type(df['P1'][k]) == str:\n",
    "        people.append(df['P1'][k])\n",
    "    if type(df['P2'][k]) == str:\n",
    "        people.append(df['P2'][k])\n",
    "    if type(df['P3'][k]) == str:\n",
    "        people.append(df['P3'][k])\n",
    "\n",
    "    if type(df['Date'][k]) == date_time_type:\n",
    "        df['Date'][k] = df['Date'][k].strftime(\"%d-%m-%Y\")\n",
    "    else:\n",
    "        df['Date'][k] = \"no_date\"\n",
    "\n",
    "    qas.append({\n",
    "        'qtns': ques,\n",
    "        'exact_answer': str(df['Exact Answer'][k]),\n",
    "        'answer': str(df['Answer'][k]),\n",
    "        'tags': tags,\n",
    "        'date': df['Date'][k],\n",
    "        'year': df['Year'][k],\n",
    "        'location': location,\n",
    "        'people': people,\n",
    "        'event': str(df['Event'][k]),\n",
    "        'mujib_relavant': str(df['Mujib Relevant'][k])\n",
    "\n",
    "\n",
    "\n",
    "    }\n",
    "    )\n",
    "\n",
    "    k = k+1"
   ]
  },
  {
   "cell_type": "code",
   "execution_count": 19,
   "metadata": {},
   "outputs": [
    {
     "data": {
      "text/plain": [
       "[{'qtns': ['In what year did Sheikh Mujibur Rahman get married?',\n",
       "   'In which year did Bangabandhu get married?',\n",
       "   'When did Sheikh Mujib get married?'],\n",
       "  'exact_answer': '1938',\n",
       "  'answer': 'Sheikh Mujibur Rahman married Fazilatunnessa in 1938 at the age of eighteen.',\n",
       "  'tags': ['contact information', 'personal'],\n",
       "  'date': 'no_date',\n",
       "  'year': 1938.0,\n",
       "  'location': [],\n",
       "  'people': ['Fazilatunnesa'],\n",
       "  'event': 'the family',\n",
       "  'mujib_relavant': 'YES'},\n",
       " {'qtns': ['How old was Sheikh Mujibur Rahman at the time of marriage?',\n",
       "   'How old was Bangabandhu at the time of marriage?',\n",
       "   'At what age did Sheikh Mujib get married?'],\n",
       "  'exact_answer': '18',\n",
       "  'answer': 'Sheikh Mujibur Rahman married Fazilatunnessa in 1938 at the age of eighteen.',\n",
       "  'tags': ['contact information', 'personal'],\n",
       "  'date': 'no_date',\n",
       "  'year': 1938.0,\n",
       "  'location': [],\n",
       "  'people': ['Fazilatunnesa'],\n",
       "  'event': 'the family',\n",
       "  'mujib_relavant': 'YES'},\n",
       " {'qtns': ['With whom Sheikh Mujibur Rahman married?',\n",
       "   'Who was Bangabandhu married to?',\n",
       "   'What is the name of Bengal mother?',\n",
       "   'Who did Sheikh Mujib marry?'],\n",
       "  'exact_answer': 'Fazilatunnesa',\n",
       "  'answer': 'Sheikh Mujibur Rahman married Fazilatunnessa in 1938 at the age of eighteen.',\n",
       "  'tags': ['contact information', 'personal'],\n",
       "  'date': 'no_date',\n",
       "  'year': 1938.0,\n",
       "  'location': [],\n",
       "  'people': ['Fazilatunnesa'],\n",
       "  'event': 'the family',\n",
       "  'mujib_relavant': 'YES'},\n",
       " {'qtns': ['How many children did Sheikh Mujibur Rahman have?',\n",
       "   'How many children did Sheikh Mujib had?',\n",
       "   'How many children of Mujib?'],\n",
       "  'exact_answer': '5',\n",
       "  'answer': 'Sheikh Mujibur Rahman married Fazilatunnessa in 1938 at the age of eighteen. Their children are two daughters (Sheikh Hasina, Sheikh Rehana) and three sons (Sheikh Kamal, Sheikh Jamal and Sheikh Russell).',\n",
       "  'tags': ['contact information', 'personal'],\n",
       "  'date': 'no_date',\n",
       "  'year': 1938.0,\n",
       "  'location': [],\n",
       "  'people': [],\n",
       "  'event': 'the family',\n",
       "  'mujib_relavant': 'YES'},\n",
       " {'qtns': ['How many sons did Sheikh Mujibur Rahman have?',\n",
       "   'How many sons did Mujib had?'],\n",
       "  'exact_answer': '3',\n",
       "  'answer': 'Sheikh Mujibur Rahman married Fazilatunnessa in 1938 at the age of eighteen. Their children are two daughters (Sheikh Hasina, Sheikh Rehana) and three sons (Sheikh Kamal, Sheikh Jamal and Sheikh Russell).',\n",
       "  'tags': ['contact information', 'personal'],\n",
       "  'date': 'no_date',\n",
       "  'year': 1938.0,\n",
       "  'location': [],\n",
       "  'people': [],\n",
       "  'event': 'the family',\n",
       "  'mujib_relavant': 'YES'},\n",
       " {'qtns': ['How many daughters did Sheikh Mujibur Rahman have?',\n",
       "   'How many daughters did Mujib had?'],\n",
       "  'exact_answer': '2',\n",
       "  'answer': 'Sheikh Mujibur Rahman married Fazilatunnessa in 1938 at the age of eighteen. Their children are two daughters (Sheikh Hasina, Sheikh Rehana) and three sons (Sheikh Kamal, Sheikh Jamal and Sheikh Russell).',\n",
       "  'tags': ['contact information', 'personal'],\n",
       "  'date': 'no_date',\n",
       "  'year': 1938.0,\n",
       "  'location': [],\n",
       "  'people': [],\n",
       "  'event': 'the family',\n",
       "  'mujib_relavant': 'YES'},\n",
       " {'qtns': [\"What is the name of Sheikh Mujibur Rahman's children?\",\n",
       "   \"What are the names of Sheikh Mujib's children?\",\n",
       "   \"Who is Sheikh Mujib's son and daughter?\"],\n",
       "  'exact_answer': 'Two daughters (Sheikh Hasina, Sheikh Rehana) and three sons (Sheikh Kamal, Sheikh Jamal and Sheikh Russell).',\n",
       "  'answer': 'Sheikh Mujibur Rahman married Fazilatunnessa in 1938 at the age of eighteen. Their children are two daughters (Sheikh Hasina, Sheikh Rehana) and three sons (Sheikh Kamal, Sheikh Jamal and Sheikh Russell).',\n",
       "  'tags': ['contact information', 'personal'],\n",
       "  'date': 'no_date',\n",
       "  'year': 1938.0,\n",
       "  'location': [],\n",
       "  'people': [],\n",
       "  'event': 'the family',\n",
       "  'mujib_relavant': 'YES'},\n",
       " {'qtns': [\"What are the names of Sheikh Mujib Rahman's sons?\",\n",
       "   \"What are the names of Sheikh Mujib's sons?\",\n",
       "   'Who is the son of Sheikh Mujib?'],\n",
       "  'exact_answer': 'Three sons (Sheikh Kamal, Sheikh Jamal and Sheikh Russell)',\n",
       "  'answer': 'Sheikh Mujibur Rahman married Fazilatunnessa in 1938 at the age of eighteen. Their children are two daughters (Sheikh Hasina, Sheikh Rehana) and three sons (Sheikh Kamal, Sheikh Jamal and Sheikh Russell).',\n",
       "  'tags': ['contact information', 'personal'],\n",
       "  'date': 'no_date',\n",
       "  'year': 1938.0,\n",
       "  'location': [],\n",
       "  'people': ['Sheikh Kamal', 'Sheikh Jamal', 'Sheikh Russell'],\n",
       "  'event': 'the family',\n",
       "  'mujib_relavant': 'YES'},\n",
       " {'qtns': [\"What are the names of Sheikh Mujibur Rahman's daughters?\",\n",
       "   \"What are the names of Sheikh Mujib's daughters?\",\n",
       "   \"Who is Sheikh Mujib's daughter?\"],\n",
       "  'exact_answer': 'Two daughters (Sheikh Hasina, Sheikh Rehana).',\n",
       "  'answer': 'Sheikh Mujibur Rahman married Fazilatunnessa in 1938 at the age of eighteen. Their children are two daughters (Sheikh Hasina, Sheikh Rehana) and three sons (Sheikh Kamal, Sheikh Jamal and Sheikh Russell).',\n",
       "  'tags': ['contact information', 'personal'],\n",
       "  'date': 'no_date',\n",
       "  'year': 1938.0,\n",
       "  'location': [],\n",
       "  'people': ['Sheikh hasina', 'Sheikh Rehana'],\n",
       "  'event': 'the family',\n",
       "  'mujib_relavant': 'YES'}]"
      ]
     },
     "execution_count": 19,
     "metadata": {},
     "output_type": "execute_result"
    }
   ],
   "source": [
    "qas"
   ]
  },
  {
   "cell_type": "code",
   "execution_count": 20,
   "metadata": {},
   "outputs": [],
   "source": [
    "full_df.append(\n",
    "    {\n",
    "        'context':context[ctx_index[-1]],\n",
    "        'qas':qas\n",
    "    }\n",
    ")"
   ]
  },
  {
   "cell_type": "markdown",
   "metadata": {},
   "source": [
    "### Testing for iteration in `data.json`"
   ]
  },
  {
   "cell_type": "code",
   "execution_count": 21,
   "metadata": {},
   "outputs": [],
   "source": [
    "\n",
    "def find_by_index(index):\n",
    "    print(\"Context ->  \",full_df[index]['context'])\n",
    "    print(\"\\t Question -> \",full_df[index]['qas'][0]['qtns'][0])\n",
    "    print(\"\\t Answer -> \",full_df[index]['qas'][0]['answer'])"
   ]
  },
  {
   "cell_type": "code",
   "execution_count": 22,
   "metadata": {},
   "outputs": [
    {
     "name": "stdout",
     "output_type": "stream",
     "text": [
      "Context ->   March 25, 1971 is the worst massacre and the most brutal night in the history of the world. Pakistani dictator General Yahya Khan secretly left Dhaka in white clothes. The city became quiet after evening. Bangabandhu ordered his colleagues to move to a safe haven with further instructions after receiving information about the suspicious movements of Pakistani troops and the plans of the junta to attack his house. When colleagues suggested Bangabandhu to go into hiding, he rejected it and said, 'I will not go anywhere. If I hide myself, then the city of Dhaka will not exist. They will search diligently. Many houses will be destroyed and many lives will be lost.' For strategic reasons, Bangabandhu did not give the opportunity to spread false propaganda about Bangladesh to the outside world by declaring independence before the invasion of Pakistani forces. But he did not delay after hearing the news that some places of Dhaka were attacked by the junta. After allowing his colleagues to escape to safe haven, he directly declared Bangladesh as an independent state as per pre-planned.\n",
      "\n",
      "\t Question ->  Which date is known as kalratri?\n",
      "\t Answer ->  The day is observed in memory of those killed in the brutal massacre by Pakistani forces on the night of 25 March 1971. On March 11, 2017, the National Parliament decided to observe the day.\n"
     ]
    }
   ],
   "source": [
    "find_by_index(23)"
   ]
  },
  {
   "cell_type": "markdown",
   "metadata": {},
   "source": [
    "# Dumping into `data.json`"
   ]
  },
  {
   "cell_type": "code",
   "execution_count": 25,
   "metadata": {},
   "outputs": [],
   "source": [
    "import json\n",
    "with open('data/english_data_v1.json', 'w', encoding='utf-8') as fout:\n",
    "    json.dump(obj= full_df,indent= 4,ensure_ascii=False, fp=fout)\n"
   ]
  },
  {
   "cell_type": "code",
   "execution_count": null,
   "metadata": {},
   "outputs": [],
   "source": []
  }
 ],
 "metadata": {
  "kernelspec": {
   "display_name": "Python 3",
   "language": "python",
   "name": "python3"
  },
  "language_info": {
   "codemirror_mode": {
    "name": "ipython",
    "version": 3
   },
   "file_extension": ".py",
   "mimetype": "text/x-python",
   "name": "python",
   "nbconvert_exporter": "python",
   "pygments_lexer": "ipython3",
   "version": "3.10.9"
  },
  "orig_nbformat": 4,
  "vscode": {
   "interpreter": {
    "hash": "815e771becef5610b99ea19c4d57d4288c27648fcf3de4883546069dffddf2f5"
   }
  }
 },
 "nbformat": 4,
 "nbformat_minor": 2
}
